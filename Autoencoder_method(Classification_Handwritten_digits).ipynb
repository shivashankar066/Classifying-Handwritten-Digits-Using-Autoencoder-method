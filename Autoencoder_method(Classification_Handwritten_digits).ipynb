{
  "nbformat": 4,
  "nbformat_minor": 0,
  "metadata": {
    "colab": {
      "name": "Autoencoder method(Classification Handwritten digits).ipynb",
      "provenance": []
    },
    "kernelspec": {
      "name": "python3",
      "display_name": "Python 3"
    },
    "language_info": {
      "name": "python"
    },
    "accelerator": "GPU"
  },
  "cells": [
    {
      "cell_type": "markdown",
      "metadata": {
        "id": "1mp-1qONUx-d"
      },
      "source": [
        "**Problem Statement**    \n",
        "\n",
        "MNIST (\"Modified National Institute of Standards and Technology\") is the de facto “hello world” dataset of computer vision. Since its release in 1999, this classic dataset of handwritten images has served as the basis for benchmarking classification algorithms. As new machine learning techniques emerge, MNIST remains a reliable resource for researchers and learners alike\n",
        "\n",
        "In this demo, your goal is to reconstruct digits images from a dataset of thousands of handwritten images using an Autoencoder"
      ]
    },
    {
      "cell_type": "code",
      "metadata": {
        "colab": {
          "base_uri": "https://localhost:8080/"
        },
        "id": "CrS24bG1U7dy",
        "outputId": "b177b749-08cf-484e-cd24-5afc4c7bbb57"
      },
      "source": [
        "#Importing Required Libraries\n",
        "\n",
        "import tensorflow as tf #Importing Tensorflow Library\n",
        "from tensorflow.keras.layers import Input, Dense\n",
        "from tensorflow.keras.models import Model\n",
        "\n",
        "print('Tensorflow Version:',tf.__version__)"
      ],
      "execution_count": 1,
      "outputs": [
        {
          "output_type": "stream",
          "name": "stdout",
          "text": [
            "Tensorflow Version: 2.6.0\n"
          ]
        }
      ]
    },
    {
      "cell_type": "code",
      "metadata": {
        "id": "i7nE1S3RU7tq"
      },
      "source": [
        "# this is the size of our encoded representations\n",
        "encoding_dim = 32  # 32 floats -> compression of factor 24.5, assuming the input is 784 floats\n",
        "\n",
        "# this is our input placeholder\n",
        "input_img = Input(shape=(784,))\n",
        "\n",
        "# \"encoded\" is the encoded representation of the input\n",
        "encoded = Dense(encoding_dim, activation='relu')(input_img)\n",
        "\n",
        "# \"decoded\" is the lossy reconstruction of the input\n",
        "decoded = Dense(784, activation='sigmoid')(encoded)\n",
        "\n",
        "# this model maps an input to its reconstruction\n",
        "autoencoder = Model(input_img, decoded)"
      ],
      "execution_count": 2,
      "outputs": []
    },
    {
      "cell_type": "code",
      "metadata": {
        "id": "EjbcoBeMVb6B"
      },
      "source": [
        "#Build Encoder Model\n",
        "encoder = Model(input_img, encoded)"
      ],
      "execution_count": 3,
      "outputs": []
    },
    {
      "cell_type": "code",
      "metadata": {
        "id": "RWLs4ub8Vb7a"
      },
      "source": [
        "#Build Decoder Model\n",
        "# create a placeholder for an encoded (32-dimensional) input\n",
        "encoded_input = Input(shape=(encoding_dim,))\n",
        "\n",
        "# retrieve the last layer of the autoencoder model\n",
        "decoder_layer = autoencoder.layers[-1]\n",
        "\n",
        "# create the decoder model\n",
        "decoder = Model(encoded_input, decoder_layer(encoded_input))"
      ],
      "execution_count": 4,
      "outputs": []
    },
    {
      "cell_type": "code",
      "metadata": {
        "colab": {
          "base_uri": "https://localhost:8080/"
        },
        "id": "xpZVlaTxVcA5",
        "outputId": "2acefd1e-48f4-42dd-f7c1-3a96ee3a00ff"
      },
      "source": [
        "autoencoder.compile(loss = 'binary_crossentropy', optimizer = tf.keras.optimizers.Adam(learning_rate=0.001))\n",
        "autoencoder.summary()"
      ],
      "execution_count": 7,
      "outputs": [
        {
          "output_type": "stream",
          "name": "stdout",
          "text": [
            "Model: \"model\"\n",
            "_________________________________________________________________\n",
            "Layer (type)                 Output Shape              Param #   \n",
            "=================================================================\n",
            "input_1 (InputLayer)         [(None, 784)]             0         \n",
            "_________________________________________________________________\n",
            "dense (Dense)                (None, 32)                25120     \n",
            "_________________________________________________________________\n",
            "dense_1 (Dense)              (None, 784)               25872     \n",
            "=================================================================\n",
            "Total params: 50,992\n",
            "Trainable params: 50,992\n",
            "Non-trainable params: 0\n",
            "_________________________________________________________________\n"
          ]
        }
      ]
    },
    {
      "cell_type": "markdown",
      "metadata": {
        "id": "JL19QM12WovH"
      },
      "source": [
        "##Pre-process the dataset"
      ]
    },
    {
      "cell_type": "code",
      "metadata": {
        "colab": {
          "base_uri": "https://localhost:8080/"
        },
        "id": "rg-gGJSQU7ut",
        "outputId": "8778401f-20a9-47ac-bee1-f4bea20842ba"
      },
      "source": [
        "(x_train, _), (x_test, _) = tf.keras.datasets.mnist.load_data()"
      ],
      "execution_count": 8,
      "outputs": [
        {
          "output_type": "stream",
          "name": "stdout",
          "text": [
            "Downloading data from https://storage.googleapis.com/tensorflow/tf-keras-datasets/mnist.npz\n",
            "11493376/11490434 [==============================] - 0s 0us/step\n",
            "11501568/11490434 [==============================] - 0s 0us/step\n"
          ]
        }
      ]
    },
    {
      "cell_type": "markdown",
      "metadata": {
        "id": "cG3UkD_QcDNL"
      },
      "source": [
        "Normalize all values between 0 and 1 and we will flatten the 28x28 images into vectors of size 784"
      ]
    },
    {
      "cell_type": "code",
      "metadata": {
        "colab": {
          "base_uri": "https://localhost:8080/"
        },
        "id": "kfHpmlAUWseD",
        "outputId": "2d122e8b-afef-493a-f185-85824e3fd306"
      },
      "source": [
        "import numpy as np \n",
        "x_train = x_train.astype('float32') / 255.\n",
        "x_test = x_test.astype('float32') / 255.\n",
        "\n",
        "x_train = x_train.reshape((len(x_train), np.prod(x_train.shape[1:])))\n",
        "x_test = x_test.reshape((len(x_test), np.prod(x_test.shape[1:])))\n",
        "\n",
        "print(x_train.shape)\n",
        "print(x_test.shape)"
      ],
      "execution_count": 10,
      "outputs": [
        {
          "output_type": "stream",
          "name": "stdout",
          "text": [
            "(60000, 784)\n",
            "(10000, 784)\n"
          ]
        }
      ]
    },
    {
      "cell_type": "code",
      "metadata": {
        "colab": {
          "base_uri": "https://localhost:8080/"
        },
        "id": "Aq2GXafDWsfd",
        "outputId": "d9d820f5-46b8-480a-efa9-babae337f573"
      },
      "source": [
        "##Train the autoencoder for 100 epochs\n",
        "autoencoder.fit(x_train, x_train,\n",
        "                epochs=100,\n",
        "                batch_size=256,\n",
        "                shuffle=True,\n",
        "                validation_data=(x_test, x_test))"
      ],
      "execution_count": 18,
      "outputs": [
        {
          "output_type": "stream",
          "name": "stdout",
          "text": [
            "Epoch 1/100\n",
            "235/235 [==============================] - 1s 5ms/step - loss: 0.0039 - val_loss: 0.0039\n",
            "Epoch 2/100\n",
            "235/235 [==============================] - 1s 5ms/step - loss: 0.0039 - val_loss: 0.0039\n",
            "Epoch 3/100\n",
            "235/235 [==============================] - 1s 5ms/step - loss: 0.0039 - val_loss: 0.0039\n",
            "Epoch 4/100\n",
            "235/235 [==============================] - 1s 5ms/step - loss: 0.0039 - val_loss: 0.0039\n",
            "Epoch 5/100\n",
            "235/235 [==============================] - 1s 5ms/step - loss: 0.0039 - val_loss: 0.0039\n",
            "Epoch 6/100\n",
            "235/235 [==============================] - 1s 4ms/step - loss: 0.0039 - val_loss: 0.0039\n",
            "Epoch 7/100\n",
            "235/235 [==============================] - 1s 4ms/step - loss: 0.0039 - val_loss: 0.0039\n",
            "Epoch 8/100\n",
            "235/235 [==============================] - 1s 5ms/step - loss: 0.0039 - val_loss: 0.0039\n",
            "Epoch 9/100\n",
            "235/235 [==============================] - 1s 5ms/step - loss: 0.0039 - val_loss: 0.0039\n",
            "Epoch 10/100\n",
            "235/235 [==============================] - 1s 5ms/step - loss: 0.0039 - val_loss: 0.0039\n",
            "Epoch 11/100\n",
            "235/235 [==============================] - 1s 5ms/step - loss: 0.0039 - val_loss: 0.0039\n",
            "Epoch 12/100\n",
            "235/235 [==============================] - 1s 4ms/step - loss: 0.0039 - val_loss: 0.0039\n",
            "Epoch 13/100\n",
            "235/235 [==============================] - 1s 5ms/step - loss: 0.0039 - val_loss: 0.0039\n",
            "Epoch 14/100\n",
            "235/235 [==============================] - 1s 5ms/step - loss: 0.0038 - val_loss: 0.0039\n",
            "Epoch 15/100\n",
            "235/235 [==============================] - 1s 4ms/step - loss: 0.0038 - val_loss: 0.0039\n",
            "Epoch 16/100\n",
            "235/235 [==============================] - 1s 4ms/step - loss: 0.0038 - val_loss: 0.0039\n",
            "Epoch 17/100\n",
            "235/235 [==============================] - 1s 5ms/step - loss: 0.0038 - val_loss: 0.0039\n",
            "Epoch 18/100\n",
            "235/235 [==============================] - 1s 5ms/step - loss: 0.0038 - val_loss: 0.0039\n",
            "Epoch 19/100\n",
            "235/235 [==============================] - 1s 4ms/step - loss: 0.0038 - val_loss: 0.0039\n",
            "Epoch 20/100\n",
            "235/235 [==============================] - 1s 5ms/step - loss: 0.0038 - val_loss: 0.0039\n",
            "Epoch 21/100\n",
            "235/235 [==============================] - 1s 4ms/step - loss: 0.0038 - val_loss: 0.0039\n",
            "Epoch 22/100\n",
            "235/235 [==============================] - 1s 5ms/step - loss: 0.0038 - val_loss: 0.0039\n",
            "Epoch 23/100\n",
            "235/235 [==============================] - 1s 4ms/step - loss: 0.0038 - val_loss: 0.0039\n",
            "Epoch 24/100\n",
            "235/235 [==============================] - 1s 4ms/step - loss: 0.0038 - val_loss: 0.0039\n",
            "Epoch 25/100\n",
            "235/235 [==============================] - 1s 4ms/step - loss: 0.0038 - val_loss: 0.0039\n",
            "Epoch 26/100\n",
            "235/235 [==============================] - 1s 4ms/step - loss: 0.0038 - val_loss: 0.0039\n",
            "Epoch 27/100\n",
            "235/235 [==============================] - 1s 4ms/step - loss: 0.0038 - val_loss: 0.0039\n",
            "Epoch 28/100\n",
            "235/235 [==============================] - 1s 4ms/step - loss: 0.0038 - val_loss: 0.0038\n",
            "Epoch 29/100\n",
            "235/235 [==============================] - 1s 4ms/step - loss: 0.0038 - val_loss: 0.0038\n",
            "Epoch 30/100\n",
            "235/235 [==============================] - 1s 4ms/step - loss: 0.0038 - val_loss: 0.0038\n",
            "Epoch 31/100\n",
            "235/235 [==============================] - 1s 4ms/step - loss: 0.0038 - val_loss: 0.0038\n",
            "Epoch 32/100\n",
            "235/235 [==============================] - 1s 5ms/step - loss: 0.0038 - val_loss: 0.0038\n",
            "Epoch 33/100\n",
            "235/235 [==============================] - 1s 5ms/step - loss: 0.0038 - val_loss: 0.0038\n",
            "Epoch 34/100\n",
            "235/235 [==============================] - 1s 4ms/step - loss: 0.0038 - val_loss: 0.0038\n",
            "Epoch 35/100\n",
            "235/235 [==============================] - 1s 5ms/step - loss: 0.0038 - val_loss: 0.0038\n",
            "Epoch 36/100\n",
            "235/235 [==============================] - 1s 5ms/step - loss: 0.0038 - val_loss: 0.0038\n",
            "Epoch 37/100\n",
            "235/235 [==============================] - 1s 5ms/step - loss: 0.0038 - val_loss: 0.0038\n",
            "Epoch 38/100\n",
            "235/235 [==============================] - 1s 4ms/step - loss: 0.0038 - val_loss: 0.0038\n",
            "Epoch 39/100\n",
            "235/235 [==============================] - 1s 4ms/step - loss: 0.0038 - val_loss: 0.0038\n",
            "Epoch 40/100\n",
            "235/235 [==============================] - 1s 5ms/step - loss: 0.0038 - val_loss: 0.0038\n",
            "Epoch 41/100\n",
            "235/235 [==============================] - 1s 5ms/step - loss: 0.0038 - val_loss: 0.0038\n",
            "Epoch 42/100\n",
            "235/235 [==============================] - 1s 5ms/step - loss: 0.0038 - val_loss: 0.0038\n",
            "Epoch 43/100\n",
            "235/235 [==============================] - 1s 5ms/step - loss: 0.0038 - val_loss: 0.0038\n",
            "Epoch 44/100\n",
            "235/235 [==============================] - 1s 5ms/step - loss: 0.0038 - val_loss: 0.0038\n",
            "Epoch 45/100\n",
            "235/235 [==============================] - 1s 5ms/step - loss: 0.0038 - val_loss: 0.0038\n",
            "Epoch 46/100\n",
            "235/235 [==============================] - 1s 4ms/step - loss: 0.0038 - val_loss: 0.0038\n",
            "Epoch 47/100\n",
            "235/235 [==============================] - 1s 4ms/step - loss: 0.0038 - val_loss: 0.0038\n",
            "Epoch 48/100\n",
            "235/235 [==============================] - 1s 4ms/step - loss: 0.0038 - val_loss: 0.0038\n",
            "Epoch 49/100\n",
            "235/235 [==============================] - 1s 4ms/step - loss: 0.0038 - val_loss: 0.0038\n",
            "Epoch 50/100\n",
            "235/235 [==============================] - 1s 4ms/step - loss: 0.0038 - val_loss: 0.0038\n",
            "Epoch 51/100\n",
            "235/235 [==============================] - 1s 5ms/step - loss: 0.0038 - val_loss: 0.0038\n",
            "Epoch 52/100\n",
            "235/235 [==============================] - 1s 5ms/step - loss: 0.0038 - val_loss: 0.0038\n",
            "Epoch 53/100\n",
            "235/235 [==============================] - 1s 5ms/step - loss: 0.0038 - val_loss: 0.0038\n",
            "Epoch 54/100\n",
            "235/235 [==============================] - 1s 5ms/step - loss: 0.0038 - val_loss: 0.0038\n",
            "Epoch 55/100\n",
            "235/235 [==============================] - 1s 4ms/step - loss: 0.0038 - val_loss: 0.0038\n",
            "Epoch 56/100\n",
            "235/235 [==============================] - 1s 4ms/step - loss: 0.0038 - val_loss: 0.0038\n",
            "Epoch 57/100\n",
            "235/235 [==============================] - 1s 5ms/step - loss: 0.0038 - val_loss: 0.0038\n",
            "Epoch 58/100\n",
            "235/235 [==============================] - 1s 5ms/step - loss: 0.0038 - val_loss: 0.0038\n",
            "Epoch 59/100\n",
            "235/235 [==============================] - 1s 4ms/step - loss: 0.0038 - val_loss: 0.0038\n",
            "Epoch 60/100\n",
            "235/235 [==============================] - 1s 4ms/step - loss: 0.0038 - val_loss: 0.0038\n",
            "Epoch 61/100\n",
            "235/235 [==============================] - 1s 5ms/step - loss: 0.0038 - val_loss: 0.0038\n",
            "Epoch 62/100\n",
            "235/235 [==============================] - 1s 4ms/step - loss: 0.0038 - val_loss: 0.0038\n",
            "Epoch 63/100\n",
            "235/235 [==============================] - 1s 5ms/step - loss: 0.0038 - val_loss: 0.0038\n",
            "Epoch 64/100\n",
            "235/235 [==============================] - 1s 4ms/step - loss: 0.0038 - val_loss: 0.0038\n",
            "Epoch 65/100\n",
            "235/235 [==============================] - 1s 5ms/step - loss: 0.0038 - val_loss: 0.0038\n",
            "Epoch 66/100\n",
            "235/235 [==============================] - 1s 5ms/step - loss: 0.0037 - val_loss: 0.0038\n",
            "Epoch 67/100\n",
            "235/235 [==============================] - 1s 5ms/step - loss: 0.0037 - val_loss: 0.0038\n",
            "Epoch 68/100\n",
            "235/235 [==============================] - 1s 5ms/step - loss: 0.0037 - val_loss: 0.0038\n",
            "Epoch 69/100\n",
            "235/235 [==============================] - 1s 4ms/step - loss: 0.0037 - val_loss: 0.0038\n",
            "Epoch 70/100\n",
            "235/235 [==============================] - 1s 5ms/step - loss: 0.0037 - val_loss: 0.0038\n",
            "Epoch 71/100\n",
            "235/235 [==============================] - 1s 5ms/step - loss: 0.0037 - val_loss: 0.0038\n",
            "Epoch 72/100\n",
            "235/235 [==============================] - 1s 5ms/step - loss: 0.0037 - val_loss: 0.0038\n",
            "Epoch 73/100\n",
            "235/235 [==============================] - 1s 4ms/step - loss: 0.0037 - val_loss: 0.0038\n",
            "Epoch 74/100\n",
            "235/235 [==============================] - 1s 5ms/step - loss: 0.0037 - val_loss: 0.0038\n",
            "Epoch 75/100\n",
            "235/235 [==============================] - 1s 5ms/step - loss: 0.0037 - val_loss: 0.0038\n",
            "Epoch 76/100\n",
            "235/235 [==============================] - 1s 5ms/step - loss: 0.0037 - val_loss: 0.0038\n",
            "Epoch 77/100\n",
            "235/235 [==============================] - 1s 5ms/step - loss: 0.0037 - val_loss: 0.0038\n",
            "Epoch 78/100\n",
            "235/235 [==============================] - 1s 5ms/step - loss: 0.0037 - val_loss: 0.0038\n",
            "Epoch 79/100\n",
            "235/235 [==============================] - 1s 4ms/step - loss: 0.0037 - val_loss: 0.0038\n",
            "Epoch 80/100\n",
            "235/235 [==============================] - 1s 5ms/step - loss: 0.0037 - val_loss: 0.0038\n",
            "Epoch 81/100\n",
            "235/235 [==============================] - 1s 4ms/step - loss: 0.0037 - val_loss: 0.0038\n",
            "Epoch 82/100\n",
            "235/235 [==============================] - 1s 5ms/step - loss: 0.0037 - val_loss: 0.0038\n",
            "Epoch 83/100\n",
            "235/235 [==============================] - 1s 4ms/step - loss: 0.0037 - val_loss: 0.0038\n",
            "Epoch 84/100\n",
            "235/235 [==============================] - 1s 4ms/step - loss: 0.0037 - val_loss: 0.0038\n",
            "Epoch 85/100\n",
            "235/235 [==============================] - 1s 5ms/step - loss: 0.0037 - val_loss: 0.0038\n",
            "Epoch 86/100\n",
            "235/235 [==============================] - 1s 5ms/step - loss: 0.0037 - val_loss: 0.0038\n",
            "Epoch 87/100\n",
            "235/235 [==============================] - 1s 5ms/step - loss: 0.0037 - val_loss: 0.0038\n",
            "Epoch 88/100\n",
            "235/235 [==============================] - 1s 5ms/step - loss: 0.0037 - val_loss: 0.0038\n",
            "Epoch 89/100\n",
            "235/235 [==============================] - 1s 5ms/step - loss: 0.0037 - val_loss: 0.0038\n",
            "Epoch 90/100\n",
            "235/235 [==============================] - 1s 4ms/step - loss: 0.0037 - val_loss: 0.0038\n",
            "Epoch 91/100\n",
            "235/235 [==============================] - 1s 4ms/step - loss: 0.0037 - val_loss: 0.0038\n",
            "Epoch 92/100\n",
            "235/235 [==============================] - 1s 4ms/step - loss: 0.0037 - val_loss: 0.0038\n",
            "Epoch 93/100\n",
            "235/235 [==============================] - 1s 5ms/step - loss: 0.0037 - val_loss: 0.0038\n",
            "Epoch 94/100\n",
            "235/235 [==============================] - 1s 5ms/step - loss: 0.0037 - val_loss: 0.0038\n",
            "Epoch 95/100\n",
            "235/235 [==============================] - 1s 5ms/step - loss: 0.0037 - val_loss: 0.0038\n",
            "Epoch 96/100\n",
            "235/235 [==============================] - 1s 5ms/step - loss: 0.0037 - val_loss: 0.0038\n",
            "Epoch 97/100\n",
            "235/235 [==============================] - 1s 5ms/step - loss: 0.0037 - val_loss: 0.0038\n",
            "Epoch 98/100\n",
            "235/235 [==============================] - 1s 4ms/step - loss: 0.0037 - val_loss: 0.0038\n",
            "Epoch 99/100\n",
            "235/235 [==============================] - 1s 5ms/step - loss: 0.0037 - val_loss: 0.0038\n",
            "Epoch 100/100\n",
            "235/235 [==============================] - 1s 5ms/step - loss: 0.0037 - val_loss: 0.0038\n"
          ]
        },
        {
          "output_type": "execute_result",
          "data": {
            "text/plain": [
              "<keras.callbacks.History at 0x7fa41e6083d0>"
            ]
          },
          "metadata": {},
          "execution_count": 18
        }
      ]
    },
    {
      "cell_type": "markdown",
      "metadata": {
        "id": "8o71DDsVdCTQ"
      },
      "source": [
        "##**Data Visualization**\n",
        "\n",
        "\n",
        "Now, we can try to visualize the reconstructed inputs and the encoded representations. We will use Matplotlib"
      ]
    },
    {
      "cell_type": "code",
      "metadata": {
        "id": "Dj1GjiSnWslF"
      },
      "source": [
        "# encode and decode some digits\n",
        "# note that we take them from the test set\n",
        "\n",
        "encoded_imgs = encoder.predict(x_test)\n",
        "decoded_imgs = decoder.predict(encoded_imgs)"
      ],
      "execution_count": 19,
      "outputs": []
    },
    {
      "cell_type": "code",
      "metadata": {
        "colab": {
          "base_uri": "https://localhost:8080/",
          "height": 248
        },
        "id": "XRj5AZdbWsy4",
        "outputId": "0abe429d-7b2d-408c-e4da-6306d797f797"
      },
      "source": [
        "# use Matplotlib (don't ask)\n",
        "import matplotlib.pyplot as plt\n",
        "\n",
        "n = 10  # how many digits we will display\n",
        "plt.figure(figsize=(20, 4))\n",
        "for i in range(n):\n",
        "    # display original\n",
        "    ax = plt.subplot(2, n, i + 1)\n",
        "    plt.imshow(x_test[i].reshape(28, 28))\n",
        "    plt.gray()\n",
        "    ax.get_xaxis().set_visible(False)\n",
        "    ax.get_yaxis().set_visible(False)\n",
        "\n",
        "    # display reconstruction\n",
        "    ax = plt.subplot(2, n, i + 1 + n)\n",
        "    plt.imshow(decoded_imgs[i].reshape(28, 28))\n",
        "    plt.gray()\n",
        "    ax.get_xaxis().set_visible(False)\n",
        "    ax.get_yaxis().set_visible(False)\n",
        "plt.show()"
      ],
      "execution_count": 20,
      "outputs": [
        {
          "output_type": "display_data",
          "data": {
            "image/png": "[encoded data removed]",
            "text/plain": [
              "<Figure size 1440x288 with 20 Axes>"
            ]
          },
          "metadata": {
            "needs_background": "light"
          }
        }
      ]
    },
    {
      "cell_type": "code",
      "metadata": {
        "id": "1qADiT3vdSs-"
      },
      "source": [
        ""
      ],
      "execution_count": null,
      "outputs": []
    },
    {
      "cell_type": "code",
      "metadata": {
        "id": "9_JBSCaVdSub"
      },
      "source": [
        ""
      ],
      "execution_count": null,
      "outputs": []
    },
    {
      "cell_type": "code",
      "metadata": {
        "id": "POh-QujedSyy"
      },
      "source": [
        ""
      ],
      "execution_count": null,
      "outputs": []
    },
    {
      "cell_type": "code",
      "metadata": {
        "id": "zK4LktliWsz-"
      },
      "source": [
        ""
      ],
      "execution_count": null,
      "outputs": []
    }
  ]
}